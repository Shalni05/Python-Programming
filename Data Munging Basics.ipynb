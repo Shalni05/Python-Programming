{
 "cells": [
  {
   "cell_type": "markdown",
   "metadata": {},
   "source": [
    "## Data Munging Basics"
   ]
  },
  {
   "cell_type": "markdown",
   "metadata": {},
   "source": [
    "### Pandas\n",
    "\n",
    "It is a library that provides fast data cleaning, preparation and analysis and is easy to use for data visualization and machine learning. <br>\n",
    "It is built on top of NumPy, which makes it easy to work with arrays and matrices(Series and DataFrames in Pandas)."
   ]
  },
  {
   "cell_type": "markdown",
   "metadata": {},
   "source": [
    "### Filtering and Selecting Data"
   ]
  },
  {
   "cell_type": "code",
   "execution_count": 2,
   "metadata": {
    "collapsed": true
   },
   "outputs": [],
   "source": [
    "import numpy as np\n",
    "import pandas as pd\n",
    "from pandas import Series, DataFrame"
   ]
  },
  {
   "cell_type": "code",
   "execution_count": 3,
   "metadata": {},
   "outputs": [
    {
     "data": {
      "text/plain": [
       "1    0\n",
       "2    1\n",
       "3    2\n",
       "4    3\n",
       "5    4\n",
       "6    5\n",
       "7    6\n",
       "8    7\n",
       "dtype: int32"
      ]
     },
     "execution_count": 3,
     "metadata": {},
     "output_type": "execute_result"
    }
   ],
   "source": [
    "my_series = Series(np.arange(8), index=['1','2','3','4','5','6','7','8'])\n",
    "my_series"
   ]
  },
  {
   "cell_type": "code",
   "execution_count": 5,
   "metadata": {},
   "outputs": [
    {
     "name": "stdout",
     "output_type": "stream",
     "text": [
      "5\n",
      "6\n"
     ]
    }
   ],
   "source": [
    "print(my_series['6']) #Label Index\n",
    "print(my_series[6]) #Integer Index"
   ]
  },
  {
   "cell_type": "code",
   "execution_count": 4,
   "metadata": {},
   "outputs": [
    {
     "name": "stdout",
     "output_type": "stream",
     "text": [
      "       column 1  column 2  column 3  column 4  column 5  column 6\n",
      "row 1  0.870124  0.582277  0.278839  0.185911  0.411100  0.117376\n",
      "row 2  0.684969  0.437611  0.556229  0.367080  0.402366  0.113041\n",
      "row 3  0.447031  0.585445  0.161985  0.520719  0.326051  0.699186\n",
      "row 4  0.366395  0.836375  0.481343  0.516502  0.383048  0.997541\n",
      "row 5  0.514244  0.559053  0.034450  0.719930  0.421004  0.436935\n",
      "row 6  0.281701  0.900274  0.669612  0.456069  0.289804  0.525819\n"
     ]
    }
   ],
   "source": [
    "np.random.seed(25)\n",
    "#random.rand(36) method will generate 36 random numbers and reshape method will reshape it into a 6*6 matrix.\n",
    "my_df = DataFrame(np.random.rand(36).reshape(6,6), index = ['row 1', 'row 2','row 3','row 4','row 5', 'row 6'],\n",
    "                  columns = ['column 1', 'column 2','column 3', 'column 4', 'column 5', 'column 6'])\n",
    "print(my_df)"
   ]
  },
  {
   "cell_type": "code",
   "execution_count": 6,
   "metadata": {},
   "outputs": [
    {
     "name": "stdout",
     "output_type": "stream",
     "text": [
      "       column 1  column 4\n",
      "row 3  0.447031  0.520719\n",
      "row 5  0.514244  0.719930\n"
     ]
    }
   ],
   "source": [
    "#ix[[row indexes],[column indexes]] - retrieves only those specific rows and columns\n",
    "print(my_df.ix[['row 3', 'row 5'], ['column 1','column 4']])\n"
   ]
  },
  {
   "cell_type": "markdown",
   "metadata": {},
   "source": [
    "#### Data Slicing\n",
    "\n",
    "Data slicing allows you to select and retrive all the records starting from the starting label-index, to the ending label-index, and every record in between them."
   ]
  },
  {
   "cell_type": "code",
   "execution_count": 31,
   "metadata": {},
   "outputs": [
    {
     "name": "stdout",
     "output_type": "stream",
     "text": [
      "1    0\n",
      "2    1\n",
      "3    2\n",
      "4    3\n",
      "dtype: int32\n"
     ]
    }
   ],
   "source": [
    "print(my_series['1':'4']) # Data slicing in series"
   ]
  },
  {
   "cell_type": "markdown",
   "metadata": {
    "collapsed": true
   },
   "source": [
    "#### Comparing with scalars"
   ]
  },
  {
   "cell_type": "code",
   "execution_count": 9,
   "metadata": {},
   "outputs": [
    {
     "name": "stdout",
     "output_type": "stream",
     "text": [
      "       column 1  column 2  column 3  column 4  column 5  column 6\n",
      "row 1     False     False     False      True     False      True\n",
      "row 2     False     False     False     False     False      True\n",
      "row 3     False     False      True     False     False     False\n",
      "row 4     False     False     False     False     False     False\n",
      "row 5     False     False      True     False     False     False\n",
      "row 6     False     False     False     False     False     False\n",
      "1     True\n",
      "2     True\n",
      "3     True\n",
      "4     True\n",
      "5     True\n",
      "6    False\n",
      "7    False\n",
      "8    False\n",
      "dtype: bool\n"
     ]
    }
   ],
   "source": [
    "print(my_df < 0.2) #DataFrame\n",
    "print(my_series < 5) #Series"
   ]
  },
  {
   "cell_type": "markdown",
   "metadata": {},
   "source": [
    "#### Filtering with scalars"
   ]
  },
  {
   "cell_type": "code",
   "execution_count": 11,
   "metadata": {},
   "outputs": [
    {
     "name": "stdout",
     "output_type": "stream",
     "text": [
      "       column 1  column 2  column 3  column 4  column 5  column 6\n",
      "row 1       NaN       NaN       NaN  0.185911       NaN  0.117376\n",
      "row 2       NaN       NaN       NaN       NaN       NaN  0.113041\n",
      "row 3       NaN       NaN  0.161985       NaN       NaN       NaN\n",
      "row 4       NaN       NaN       NaN       NaN       NaN       NaN\n",
      "row 5       NaN       NaN  0.034450       NaN       NaN       NaN\n",
      "row 6       NaN       NaN       NaN       NaN       NaN       NaN\n",
      "1    0\n",
      "2    1\n",
      "3    2\n",
      "4    3\n",
      "5    4\n",
      "dtype: int32\n"
     ]
    }
   ],
   "source": [
    "#scalars -> object_name[object_name > scalar_value]\n",
    "print(my_df[my_df < 0.2])\n",
    "print(my_series[my_series < 5])"
   ]
  },
  {
   "cell_type": "markdown",
   "metadata": {},
   "source": [
    "#### Setting values with scalars"
   ]
  },
  {
   "cell_type": "code",
   "execution_count": 17,
   "metadata": {},
   "outputs": [
    {
     "name": "stdout",
     "output_type": "stream",
     "text": [
      "1    4\n",
      "2    4\n",
      "3    4\n",
      "4    3\n",
      "5    4\n",
      "6    5\n",
      "7    6\n",
      "8    7\n",
      "dtype: int32\n"
     ]
    }
   ],
   "source": [
    "# ['label-index','label-index'] = scalar value\n",
    "my_series['1','2','3'] = 4\n",
    "print(my_series)"
   ]
  },
  {
   "cell_type": "code",
   "execution_count": 18,
   "metadata": {},
   "outputs": [
    {
     "name": "stdout",
     "output_type": "stream",
     "text": [
      "       column 1  column 2  column 3  column 4  column 5  column 6\n",
      "row 1  0.870124  0.582277  0.278839  0.185911  0.411100  0.117376\n",
      "row 2  0.684969  0.437611  0.556229  0.367080  0.402366  0.113041\n",
      "row 3  4.000000  0.585445  0.161985  4.000000  0.326051  0.699186\n",
      "row 4  0.366395  0.836375  0.481343  0.516502  0.383048  0.997541\n",
      "row 5  4.000000  0.559053  0.034450  4.000000  0.421004  0.436935\n",
      "row 6  0.281701  0.900274  0.669612  0.456069  0.289804  0.525819\n"
     ]
    }
   ],
   "source": [
    "my_df.ix[['row 3', 'row 5'], ['column 1','column 4']] = 4 \n",
    "print(my_df)"
   ]
  }
 ],
 "metadata": {
  "kernelspec": {
   "display_name": "Python 3",
   "language": "python",
   "name": "python3"
  },
  "language_info": {
   "codemirror_mode": {
    "name": "ipython",
    "version": 3
   },
   "file_extension": ".py",
   "mimetype": "text/x-python",
   "name": "python",
   "nbconvert_exporter": "python",
   "pygments_lexer": "ipython3",
   "version": "3.6.1"
  }
 },
 "nbformat": 4,
 "nbformat_minor": 2
}
