{
 "cells": [
  {
   "cell_type": "markdown",
   "metadata": {},
   "source": [
    "## Data Munging Basics"
   ]
  },
  {
   "cell_type": "markdown",
   "metadata": {},
   "source": [
    "### Treating missing values\n",
    "Treating missing values is the fundamental step in preparing data for analysis."
   ]
  },
  {
   "cell_type": "code",
   "execution_count": 3,
   "metadata": {
    "collapsed": true
   },
   "outputs": [],
   "source": [
    "import numpy as np\n",
    "import pandas as pd\n",
    "from pandas import Series, DataFrame"
   ]
  },
  {
   "cell_type": "code",
   "execution_count": 4,
   "metadata": {},
   "outputs": [
    {
     "name": "stdout",
     "output_type": "stream",
     "text": [
      "0    value 1\n",
      "1        NaN\n",
      "2    value 3\n",
      "3    value 4\n",
      "4    value 5\n",
      "5        NaN\n",
      "6    value 7\n",
      "7    value 8\n",
      "dtype: object\n"
     ]
    }
   ],
   "source": [
    "missing = np.nan\n",
    "my_series = Series(['value 1', missing, 'value 3', 'value 4', 'value 5', missing, 'value 7', 'value 8' ])\n",
    "print(my_series)"
   ]
  },
  {
   "cell_type": "code",
   "execution_count": 5,
   "metadata": {},
   "outputs": [
    {
     "data": {
      "text/plain": [
       "0    False\n",
       "1     True\n",
       "2    False\n",
       "3    False\n",
       "4    False\n",
       "5     True\n",
       "6    False\n",
       "7    False\n",
       "dtype: bool"
      ]
     },
     "execution_count": 5,
     "metadata": {},
     "output_type": "execute_result"
    }
   ],
   "source": [
    "my_series.isnull() # Returns boolean values indicating if the series contains a null value"
   ]
  },
  {
   "cell_type": "markdown",
   "metadata": {},
   "source": [
    "### Filling in for missing values"
   ]
  },
  {
   "cell_type": "code",
   "execution_count": 6,
   "metadata": {},
   "outputs": [
    {
     "name": "stdout",
     "output_type": "stream",
     "text": [
      "          0         1         2         3         4         5\n",
      "0  0.228273  1.026890 -0.839585 -0.591182 -0.956888 -0.222326\n",
      "1 -0.619915  1.837905 -2.053231  0.868583 -0.920734 -0.232312\n",
      "2  2.152957 -1.334661  0.076380 -1.246089  1.202272 -1.049942\n",
      "3  1.056610 -0.419678  2.294842 -2.594487  2.822756  0.680889\n",
      "4 -1.577693 -1.976254  0.533340 -0.290870 -0.513520  1.982626\n",
      "5  0.226001 -1.839905  1.607671  0.388292  0.399732  0.405477\n"
     ]
    }
   ],
   "source": [
    "np.random.seed(25)\n",
    "#random.randn(36) method will generate 36 random numbers from standard normal distribution and reshape method will reshape it into a 6*6 matrix.\n",
    "my_df = DataFrame(np.random.randn(36).reshape(6,6))\n",
    "print(my_df)"
   ]
  },
  {
   "cell_type": "code",
   "execution_count": 9,
   "metadata": {},
   "outputs": [
    {
     "name": "stdout",
     "output_type": "stream",
     "text": [
      "          0         1         2         3         4         5\n",
      "0  0.228273  1.026890 -0.839585 -0.591182 -0.956888 -0.222326\n",
      "1 -0.619915  1.837905 -2.053231  0.868583 -0.920734 -0.232312\n",
      "2  2.152957 -1.334661  0.076380 -1.246089  1.202272 -1.049942\n",
      "3  1.056610       NaN       NaN -2.594487  2.822756  0.680889\n",
      "4 -1.577693       NaN       NaN -0.290870 -0.513520  1.982626\n",
      "5  0.226001       NaN       NaN  0.388292  0.399732  0.405477\n"
     ]
    }
   ],
   "source": [
    "my_df.ix[3:5,1:2] = missing\n",
    "print(my_df)"
   ]
  },
  {
   "cell_type": "code",
   "execution_count": 12,
   "metadata": {},
   "outputs": [
    {
     "name": "stdout",
     "output_type": "stream",
     "text": [
      "          0         1         2         3         4         5\n",
      "0  0.228273  1.026890 -0.839585 -0.591182 -0.956888 -0.222326\n",
      "1 -0.619915  1.837905 -2.053231  0.868583 -0.920734 -0.232312\n",
      "2  2.152957 -1.334661  0.076380 -1.246089  1.202272 -1.049942\n",
      "3  1.056610  6.000000  6.000000 -2.594487  2.822756  0.680889\n",
      "4 -1.577693  6.000000  6.000000 -0.290870 -0.513520  1.982626\n",
      "5  0.226001  6.000000  6.000000  0.388292  0.399732  0.405477\n"
     ]
    }
   ],
   "source": [
    "# The .fillna() method finds each missing value from within a Pandas object and fills it with the numeric value you've passed.\n",
    "# Output of fillna method has to be stored in a new object to be able to see the results\n",
    "filled_df = my_df.fillna(6) \n",
    "print(filled_df)"
   ]
  },
  {
   "cell_type": "code",
   "execution_count": 15,
   "metadata": {},
   "outputs": [
    {
     "name": "stdout",
     "output_type": "stream",
     "text": [
      "          0         1         2         3         4         5\n",
      "0  0.228273  1.026890 -0.839585 -0.591182 -0.956888 -0.222326\n",
      "1 -0.619915  1.837905 -2.053231  0.868583 -0.920734 -0.232312\n",
      "2  2.152957 -1.334661  0.076380 -1.246089  1.202272 -1.049942\n",
      "3  1.056610  2.000000  4.000000 -2.594487  2.822756  0.680889\n",
      "4 -1.577693  2.000000  4.000000 -0.290870 -0.513520  1.982626\n",
      "5  0.226001  2.000000  4.000000  0.388292  0.399732  0.405477\n"
     ]
    }
   ],
   "source": [
    "# You can also pass a dictionary into the fillna method. The method will then fill in the missing values from each column \n",
    "# series(as given in the dictionary key) with its own unique value as specified in the corresponding dictionary value.\n",
    "filled_df = my_df.fillna({1:2, 2:4})\n",
    "print(filled_df)\n"
   ]
  },
  {
   "cell_type": "code",
   "execution_count": 16,
   "metadata": {},
   "outputs": [
    {
     "name": "stdout",
     "output_type": "stream",
     "text": [
      "          0         1         2         3         4         5\n",
      "0  0.228273  1.026890 -0.839585 -0.591182 -0.956888 -0.222326\n",
      "1 -0.619915  1.837905 -2.053231  0.868583 -0.920734 -0.232312\n",
      "2  2.152957 -1.334661  0.076380 -1.246089  1.202272 -1.049942\n",
      "3  1.056610 -1.334661  0.076380 -2.594487  2.822756  0.680889\n",
      "4 -1.577693 -1.334661  0.076380 -0.290870 -0.513520  1.982626\n",
      "5  0.226001 -1.334661  0.076380  0.388292  0.399732  0.405477\n"
     ]
    }
   ],
   "source": [
    "# Filling missing values using the ffill argument. This argument will fill forward the missing values with values from \n",
    "# the last non null element in the column. \n",
    "filled_df = my_df.fillna(method='ffill')\n",
    "print(filled_df)"
   ]
  },
  {
   "cell_type": "code",
   "execution_count": 18,
   "metadata": {},
   "outputs": [
    {
     "data": {
      "text/plain": [
       "0    0\n",
       "1    3\n",
       "2    3\n",
       "3    0\n",
       "4    0\n",
       "5    0\n",
       "dtype: int64"
      ]
     },
     "execution_count": 18,
     "metadata": {},
     "output_type": "execute_result"
    }
   ],
   "source": [
    "# To count the number of missing values in a dataset.\n",
    "# Returns the number of missing values per each column.\n",
    "my_df.isnull().sum()"
   ]
  },
  {
   "cell_type": "markdown",
   "metadata": {},
   "source": [
    "### Filtering out missing values"
   ]
  },
  {
   "cell_type": "code",
   "execution_count": 19,
   "metadata": {},
   "outputs": [
    {
     "name": "stdout",
     "output_type": "stream",
     "text": [
      "          0         1         2         3         4         5\n",
      "0  0.228273  1.026890 -0.839585 -0.591182 -0.956888 -0.222326\n",
      "1 -0.619915  1.837905 -2.053231  0.868583 -0.920734 -0.232312\n",
      "2  2.152957 -1.334661  0.076380 -1.246089  1.202272 -1.049942\n"
     ]
    }
   ],
   "source": [
    "# To drop all the rows from the dataset that contains any missing value.\n",
    "my_df_dropna1 = my_df.dropna()\n",
    "print(my_df_dropna1)\n",
    "# Rows 4,5,6 are deleted."
   ]
  },
  {
   "cell_type": "code",
   "execution_count": 20,
   "metadata": {},
   "outputs": [
    {
     "name": "stdout",
     "output_type": "stream",
     "text": [
      "          0         3         4         5\n",
      "0  0.228273 -0.591182 -0.956888 -0.222326\n",
      "1 -0.619915  0.868583 -0.920734 -0.232312\n",
      "2  2.152957 -1.246089  1.202272 -1.049942\n",
      "3  1.056610 -2.594487  2.822756  0.680889\n",
      "4 -1.577693 -0.290870 -0.513520  1.982626\n",
      "5  0.226001  0.388292  0.399732  0.405477\n"
     ]
    }
   ],
   "source": [
    "# To drop all the columns from the dataset that contains any missing value.\n",
    "my_df_dropna2 = my_df.dropna(axis=1)\n",
    "print(my_df_dropna2)"
   ]
  },
  {
   "cell_type": "code",
   "execution_count": 21,
   "metadata": {},
   "outputs": [
    {
     "name": "stdout",
     "output_type": "stream",
     "text": [
      "          0         1         2         3         4         5\n",
      "0  0.228273  1.026890 -0.839585 -0.591182 -0.956888 -0.222326\n",
      "1 -0.619915  1.837905 -2.053231  0.868583 -0.920734 -0.232312\n",
      "2  2.152957 -1.334661  0.076380 -1.246089  1.202272 -1.049942\n",
      "3  1.056610       NaN       NaN -2.594487  2.822756  0.680889\n",
      "4 -1.577693       NaN       NaN -0.290870 -0.513520  1.982626\n",
      "5  0.226001       NaN       NaN  0.388292  0.399732  0.405477\n"
     ]
    }
   ],
   "source": [
    "# To drop all the rows from the dataset that contains ALL missing values.\n",
    "my_df_dropna3 = my_df.dropna(how='all')\n",
    "print(my_df_dropna3)\n"
   ]
  }
 ],
 "metadata": {
  "kernelspec": {
   "display_name": "Python 3",
   "language": "python",
   "name": "python3"
  },
  "language_info": {
   "codemirror_mode": {
    "name": "ipython",
    "version": 3
   },
   "file_extension": ".py",
   "mimetype": "text/x-python",
   "name": "python",
   "nbconvert_exporter": "python",
   "pygments_lexer": "ipython3",
   "version": "3.6.1"
  }
 },
 "nbformat": 4,
 "nbformat_minor": 2
}
